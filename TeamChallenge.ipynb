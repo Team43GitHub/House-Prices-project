{
 "cells": [
  {
   "cell_type": "code",
   "execution_count": 3,
   "metadata": {
    "colab": {
     "base_uri": "https://localhost:8080/",
     "height": 1000
    },
    "colab_type": "code",
    "id": "WYJ8UTs5JULk",
    "outputId": "5a862358-d249-4359-cb2d-a86289c457c8",
    "pycharm": {
     "is_executing": false
    }
   },
   "outputs": [
    {
     "ename": "ModuleNotFoundError",
     "evalue": "No module named 'google'",
     "output_type": "error",
     "traceback": [
      "\u001b[0;31m---------------------------------------------------------------------------\u001b[0m",
      "\u001b[0;31mModuleNotFoundError\u001b[0m                       Traceback (most recent call last)",
      "\u001b[0;32m<ipython-input-3-17352a778f0c>\u001b[0m in \u001b[0;36m<module>\u001b[0;34m\u001b[0m\n\u001b[0;32m----> 1\u001b[0;31m \u001b[0;32mfrom\u001b[0m \u001b[0mgoogle\u001b[0m\u001b[0;34m.\u001b[0m\u001b[0mcolab\u001b[0m \u001b[0;32mimport\u001b[0m \u001b[0mdrive\u001b[0m\u001b[0;34m\u001b[0m\u001b[0;34m\u001b[0m\u001b[0m\n\u001b[0m\u001b[1;32m      2\u001b[0m \u001b[0;32mimport\u001b[0m \u001b[0mpandas\u001b[0m\u001b[0;34m\u001b[0m\u001b[0;34m\u001b[0m\u001b[0m\n\u001b[1;32m      3\u001b[0m \u001b[0;34m\u001b[0m\u001b[0m\n\u001b[1;32m      4\u001b[0m \u001b[0;34m\u001b[0m\u001b[0m\n\u001b[1;32m      5\u001b[0m \u001b[0;32mdef\u001b[0m \u001b[0mopen_dataset\u001b[0m\u001b[0;34m(\u001b[0m\u001b[0mfilepath\u001b[0m\u001b[0;34m)\u001b[0m\u001b[0;34m:\u001b[0m\u001b[0;34m\u001b[0m\u001b[0;34m\u001b[0m\u001b[0m\n",
      "\u001b[0;31mModuleNotFoundError\u001b[0m: No module named 'google'"
     ]
    }
   ],
   "source": [
    "#from google.colab import drive\n",
    "import pandas\n",
    "\n",
    "\n",
    "def open_dataset(filepath):\n",
    "    #drive.mount(\"/content/drive\", force_remount=True)\n",
    "    #filepath = '/content/drive/My Drive/{}'.format(filepath)\n",
    "    data = pandas.read_csv(filepath)\n",
    "    #drive.flush_and_unmount()\n",
    "    return data\n",
    "\n",
    "\n",
    "pandas.set_option('display.max_columns',1000)\n",
    "\n",
    "train_dataset = open_dataset(\"UNI/CE101/train.csv\")\n",
    "test_dataset = open_dataset(\"UNI/CE101/test.csv\")\n",
    "\n",
    "print(train_dataset.info(), '\\n\\n')\n",
    "\n",
    "#Determines the missing values from the test dataset\n",
    "# and shows which columns have at least one missing value.\n",
    "missing_val = test_dataset.isnull().sum()\n",
    "print('Data missing from test dataset:\\n',missing_val[missing_val > 0])\n",
    "\n",
    "#Determines the missing values from the train dataset\n",
    "# and shows which columns have at least one missing value.\n",
    "missing_val = train_dataset.isnull().sum()\n",
    "print('Data missing from train dataset:\\n',missing_val[missing_val > 0])\n",
    "\n",
    "\n"
   ]
  },
  {
   "cell_type": "code",
   "execution_count": null,
   "metadata": {
    "colab": {
     "base_uri": "https://localhost:8080/",
     "height": 300
    },
    "colab_type": "code",
    "id": "EdWyFV1NWHBT",
    "outputId": "e23ba1a7-f74b-4a00-f6ab-2bd5aa549c00",
    "pycharm": {
     "is_executing": false
    }
   },
   "outputs": [],
   "source": [
    "# Selects the variable that the model will determine. By convention,\n",
    "# this is called y\n",
    "y = train_dataset.SalePrice\n",
    "\n",
    "# Creates a list of features to be selected from the dataset.\n",
    "# This list is not complete, and all pre-processing of data should\n",
    "# be completed before selecting features.\n",
    "sales_features = ['Id','BedroomAbvGr', '1stFlrSF']\n",
    "X = train_dataset[sales_features]\n",
    "X_test = test_dataset[sales_features]\n",
    "\n",
    "X.describe()\n",
    "\n",
    "\n",
    "#print(train_dataset.describe())\n",
    "#test_dataset.describe()\n",
    "#print(X.describe(),'\\n', X_test.describe())"
   ]
  },
  {
   "cell_type": "markdown",
   "metadata": {
    "colab_type": "text",
    "id": "4_gjryvSVCb9"
   },
   "source": []
  },
  {
   "cell_type": "code",
   "execution_count": null,
   "metadata": {
    "colab": {
     "base_uri": "https://localhost:8080/",
     "height": 206
    },
    "colab_type": "code",
    "id": "7k7-9cIIVG-2",
    "outputId": "ead0ac3d-8d76-4fb1-fc2b-213b1b52631b",
    "pycharm": {
     "is_executing": false
    }
   },
   "outputs": [],
   "source": [
    "X.head()"
   ]
  }
 ],
 "metadata": {
  "colab": {
   "name": "TeamChallenge.ipynb",
   "provenance": []
  },
  "kernelspec": {
   "display_name": "Python 3",
   "language": "python",
   "name": "python3"
  },
  "language_info": {
   "codemirror_mode": {
    "name": "ipython",
    "version": 3
   },
   "file_extension": ".py",
   "mimetype": "text/x-python",
   "name": "python",
   "nbconvert_exporter": "python",
   "pygments_lexer": "ipython3",
   "version": "3.8.0"
  }
 },
 "nbformat": 4,
 "nbformat_minor": 1
}

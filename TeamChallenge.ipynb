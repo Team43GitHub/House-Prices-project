{
 "cells": [
  {
   "cell_type": "code",
   "execution_count": 92,
   "metadata": {
    "colab": {
     "base_uri": "https://localhost:8080/",
     "height": 1000
    },
    "colab_type": "code",
    "id": "WYJ8UTs5JULk",
    "outputId": "5a862358-d249-4359-cb2d-a86289c457c8",
    "pycharm": {
     "is_executing": false
    }
   },
   "outputs": [],
   "source": [
    "mounted = False\n",
    "try:\n",
    "    import google.colab\n",
    "    from google.colab import drive\n",
    "    IN_COLAB = True\n",
    "except:\n",
    "    IN_COLAB = False\n",
    "\n",
    "def mount_drive():\n",
    "    global mounted\n",
    "    drive.mount(\"/content/drive\", force_remount=True)\n",
    "    mounted = True\n",
    "\n",
    "def open_dataset(filepath):\n",
    "    if IN_COLAB:\n",
    "        filepath = '/content/drive/My Drive/UNI/CE101/{}'.format(filepath)\n",
    "        if not mounted:\n",
    "            mount_drive()\n",
    "    data = pd.read_csv(filepath)\n",
    "    return data\n",
    "\n",
    "import pandas as pd\n",
    "from sklearn.linear_model import LinearRegression\n",
    "from sklearn.model_selection import train_test_split\n",
    "from sklearn.metrics import mean_absolute_error\n",
    "\n"
   ]
  },
  {
   "cell_type": "markdown",
   "metadata": {},
   "source": [
    "Initial set up code above"
   ]
  },
  {
   "cell_type": "code",
   "execution_count": 93,
   "metadata": {
    "pycharm": {
     "is_executing": false
    }
   },
   "outputs": [],
   "source": [
    "train_dataset = open_dataset(\"train.csv\")\n",
    "test_dataset = open_dataset(\"test.csv\")\n",
    "\n",
    "#Complete exploitation data analysis here\n",
    "\n",
    "#Prints info about the variables contained within both datasets.\n",
    "print(train_dataset.info())\n",
    "print(test_dataset.info())\n",
    "\n",
    "#Determines the missing values from the test dataset\n",
    "# and shows which columns have at least one missing value.\n",
    "missing_val = test_dataset.isnull().sum()\n",
    "print('Data missing from test dataset:\\n',missing_val[missing_val > 0])\n",
    "\n",
    "#Determines the missing values from the train dataset\n",
    "# and shows which columns have at least one missing value.\n",
    "missing_val = train_dataset.isnull().sum()\n",
    "print('Data missing from train dataset:\\n',missing_val[missing_val > 0])\n",
    "missing_val = missing_val[missing_val > 0]\n",
    "print(missing_val.plot.bar())"
   ]
  },
  {
   "cell_type": "code",
   "execution_count": 94,
   "metadata": {
    "colab": {
     "base_uri": "https://localhost:8080/",
     "height": 300
    },
    "colab_type": "code",
    "id": "EdWyFV1NWHBT",
    "outputId": "e23ba1a7-f74b-4a00-f6ab-2bd5aa549c00",
    "pycharm": {
     "is_executing": false
    }
   },
   "outputs": [],
   "source": [
    "\n",
    "#Describes all of the features of both datasets.\n",
    "print(train_dataset.describe())\n",
    "print(test_dataset.describe())\n",
    "\n",
    "\n",
    "# Selects the variable that the model will determine. By convention,\n",
    "# this is called y\n",
    "y = train_dataset.SalePrice\n",
    "\n",
    "# Creates a list of features to be selected from the dataset.\n",
    "# This list is not complete, and all pre-processing of data should\n",
    "# be completed before selecting features.\n",
    "sales_features = ['LotArea', 'YearBuilt', 'BedroomAbvGr', 'FullBath', 'KitchenAbvGr', 'OverallQual','1stFlrSF', '2ndFlrSF']\n",
    "X = train_dataset[sales_features]\n",
    "\n",
    "train_X, val_X, train_y, val_y = train_test_split(X,y)\n",
    "X_test = test_dataset[sales_features]\n",
    "\n",
    "# This code will be used when selection only a certain amount of features.\n",
    "#X_train = train_dataset[sales_features]\n",
    "#X_test= test_dataset[sales_features]\n",
    "\n",
    "\n",
    "#Prints the basic description of the selected features from both the test and train dataset.\n",
    "print(train_X.describe(),'\\n', X_test.describe())"
   ]
  },
  {
   "cell_type": "code",
   "execution_count": 95,
   "metadata": {
    "colab": {
     "base_uri": "https://localhost:8080/",
     "height": 206
    },
    "colab_type": "code",
    "id": "7k7-9cIIVG-2",
    "outputId": "ead0ac3d-8d76-4fb1-fc2b-213b1b52631b",
    "pycharm": {
     "is_executing": false
    }
   },
   "outputs": [],
   "source": [
    "train_X.head()"
   ]
  },
  {
   "cell_type": "code",
   "execution_count": 96,
   "metadata": {
    "pycharm": {
     "is_executing": false
    }
   },
   "outputs": [],
   "source": [
    "# Create the machine learning model linear regression\n",
    "model = LinearRegression()\n",
    "\n",
    "\n",
    "# train our model with the selected training features features.\n",
    "model.fit(train_X, train_y)\n",
    "\n",
    "#Test MAE of dataset with validation data\n",
    "pred_val_y = model.predict(val_X)\n",
    "\n",
    "mae = mean_absolute_error(pred_val_y, val_y)\n",
    "\n",
    "print(\"The mean average error value is:\", mae)\n",
    "\n",
    "# Predict data based on our model\n",
    "final_predict = model.predict(X_test)\n",
    "\n",
    "\n",
    "pd.DataFrame({'Id': test_dataset.Id, 'SalePrice': final_predict}).to_csv(\"output.csv\", index=False)"
   ]
  },
  {
   "cell_type": "code",
   "execution_count": 97,
   "metadata": {
    "pycharm": {
     "is_executing": false,
     "name": "#%%\n"
    }
   },
   "outputs": [],
   "source": [
    "if IN_COLAB and mounted:\n",
    "     drive.flush_and_unmount()"
   ]
  }
 ],
 "metadata": {
  "colab": {
   "name": "TeamChallenge.ipynb",
   "provenance": []
  },
  "kernelspec": {
   "display_name": "Python 3",
   "language": "python",
   "name": "python3"
  },
  "language_info": {
   "codemirror_mode": {
    "name": "ipython",
    "version": 3
   },
   "file_extension": ".py",
   "mimetype": "text/x-python",
   "name": "python",
   "nbconvert_exporter": "python",
   "pygments_lexer": "ipython3",
   "version": "3.7.4"
  },
  "pycharm": {
   "stem_cell": {
    "cell_type": "raw",
    "source": [],
    "metadata": {
     "collapsed": false
    }
   }
  }
 },
 "nbformat": 4,
 "nbformat_minor": 1
}